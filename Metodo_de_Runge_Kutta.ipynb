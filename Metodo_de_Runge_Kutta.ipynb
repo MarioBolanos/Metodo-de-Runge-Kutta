{
  "nbformat": 4,
  "nbformat_minor": 0,
  "metadata": {
    "kernelspec": {
      "display_name": "Python 3",
      "language": "python",
      "name": "python3"
    },
    "language_info": {
      "codemirror_mode": {
        "name": "ipython",
        "version": 3
      },
      "file_extension": ".py",
      "mimetype": "text/x-python",
      "name": "python",
      "nbconvert_exporter": "python",
      "pygments_lexer": "ipython3",
      "version": "3.5.4"
    },
    "colab": {
      "name": "Runge-Kutta.ipynb",
      "provenance": [],
      "include_colab_link": true
    }
  },
  "cells": [
    {
      "cell_type": "markdown",
      "metadata": {
        "id": "view-in-github",
        "colab_type": "text"
      },
      "source": [
        "<a href=\"https://colab.research.google.com/github/MarioBolanos/Metodo-de-Runge-Kutta/blob/master/Metodo_de_Runge_Kutta.ipynb\" target=\"_parent\"><img src=\"https://colab.research.google.com/assets/colab-badge.svg\" alt=\"Open In Colab\"/></a>"
      ]
    },
    {
      "cell_type": "markdown",
      "metadata": {
        "id": "qqerpaIujRWb",
        "colab_type": "text"
      },
      "source": [
        "# El método Runge-Kutta\n",
        "\n",
        "\n"
      ]
    },
    {
      "cell_type": "markdown",
      "metadata": {
        "id": "dvf_DUIVjRWf",
        "colab_type": "text"
      },
      "source": [
        "## Revisando el método de Euler"
      ]
    },
    {
      "cell_type": "markdown",
      "metadata": {
        "collapsed": true,
        "id": "tFh46wn9jRWh",
        "colab_type": "text"
      },
      "source": [
        "Considere la misma EDO (no lineal) que se discutió en los módulos anteriores,\n",
        "$$\n",
        "\\dot{x}(t) = \\cos(x(t)) + \\sin(t), \\qquad \\dot{x}\\equiv\\frac{\\textrm{d}x(t)}{\\textrm{d}t}\n",
        "$$\n",
        "con condición inicial $ x (t_0) = 0, t_0 = 0 $. El método de Euler (explícito) resuelve este problema discretizando las variables de manera que\n",
        "\n",
        "\\begin{align*}\n",
        "t     & \\rightarrow t_n     \\qquad\\equiv t_0 + n\\cdot\\Delta t,\\\\[1.0em]\n",
        "x(t)  & \\rightarrow x(t_n)  \\quad\\equiv x_n                 ,\\\\[1.0em]\n",
        "n     & = 0,1,\\ldots,N;                 \n",
        "\\end{align*}\n",
        "Entonces, el valor de la función $ x_ {n + 1} $ puede aproximarse por el valor anterior más el cambio (derivada) en ese punto multiplicado por la distancia en el tiempo $ \\Delta t $ entre $ x_n $ y $ x_ {n + 1} $. Es decir,\n",
        "\n",
        "$$\n",
        "x_{n+1} = x_n + (\\Delta t) \\cdot \\dot{x}_n, \\qquad \\Delta t = \\frac{t_N - t_0}{N} \\equiv h\n",
        "$$\n"
      ]
    },
    {
      "cell_type": "markdown",
      "metadata": {
        "id": "k5Ib40VpjRWi",
        "colab_type": "text"
      },
      "source": [
        "Para este problema en particular, se nos da $ \\dot {x} _n (t_n) $, de modo que esto se puede insertar directamente en la fórmula de Euler dando,\n",
        "$$\n",
        "x_{n+1} = x_n + h [\\cdot \\cos(x_n) + \\sin(t_n)]\n",
        "$$\n",
        "\n",
        "Que se trata de todo lo necesario para solucionar el problema actual. "
      ]
    },
    {
      "cell_type": "code",
      "metadata": {
        "id": "0VUEZBnpjRWk",
        "colab_type": "code",
        "colab": {}
      },
      "source": [
        "%matplotlib inline\n",
        "import numpy as np               # Numerical Python\n",
        "import matplotlib.pyplot as plt  # Graph and Plot handling\n",
        "import time                      # Time Measure"
      ],
      "execution_count": 1,
      "outputs": []
    },
    {
      "cell_type": "code",
      "metadata": {
        "id": "QrE0S4AVjRWp",
        "colab_type": "code",
        "colab": {
          "base_uri": "https://localhost:8080/",
          "height": 284
        },
        "outputId": "35f5c1f3-86f9-48e1-93d9-1ad21c3e0d8f"
      },
      "source": [
        "\n",
        "t0=0\n",
        "tN=10\n",
        "N=15\n",
        "t=np.linspace(t0,tN,N)\n",
        "x_Eu=np.zeros(N)\n",
        "h= (tN-t0)/N\n",
        "\n",
        "x_Eu[0]=0\n",
        "\n",
        "for n in range(0,N-1):\n",
        "  x_Eu[n+1]=x_Eu[n]+ h*(np.cos(x_Eu[n])+np.sin(t[n]))\n",
        "\n",
        "plt.plot(t,x_Eu)\n",
        "\n",
        "\n"
      ],
      "execution_count": 15,
      "outputs": [
        {
          "output_type": "execute_result",
          "data": {
            "text/plain": [
              "[<matplotlib.lines.Line2D at 0x7fa15c8030b8>]"
            ]
          },
          "metadata": {
            "tags": []
          },
          "execution_count": 15
        },
        {
          "output_type": "display_data",
          "data": {
            "image/png": "[encoded data removed]",
            "text/plain": [
              "<Figure size 432x288 with 1 Axes>"
            ]
          },
          "metadata": {
            "tags": [],
            "needs_background": "light"
          }
        }
      ]
    },
    {
      "cell_type": "markdown",
      "metadata": {
        "id": "H0afPDHxjRWt",
        "colab_type": "text"
      },
      "source": [
        "Un análisis de error rápido muestra que el error de truncamiento local emitido en <i> todos y cada uno de los pasos </i> del método de Euler es proporcional al tamaño del paso al cuadrado $ h^2 = (\\Delta t)^2 $, por Taylor expandiendo la función sobre $ t + h $\n",
        "\n",
        "\\begin{align*}\n",
        "\\text{Exact:} & \\qquad x(t + h) =  x(t) + h\\dot{x} + \\frac{h^2}{2}\\ddot{x} + \\frac{h^3}{6}\\dddot{x} + \\ldots  \\\\[1.2em]\n",
        "\\text{Euler:} & \\qquad x(t + h) \\approx  x(t) + h\\dot{x}\\\\[1.2em]\n",
        "\\text{Error:} & \\qquad e = \\frac{h^2}{2}\\ddot{x} + \\frac{h^3}{6}\\dddot{x} + \\ldots\n",
        "\\end{align*}\n",
        "\n",
        "Ahora, si iteramos el sistema un total de $ N = \\frac{t_N - t_0} {h} \\propto h ^ {- 1} $ veces, entonces el error global total es $ E = N \\cdot e \\propto h $. Es decir, el método de Euler es un método de primer orden, como se concluyó en los módulos anteriores, que también proporciona un análisis de errores más profundo del método de Euler. <strong> La pregunta ahora es: ¿podemos obtener una mejor solución aproximada del mismo tamaño de paso? </strong>"
      ]
    },
    {
      "cell_type": "markdown",
      "metadata": {
        "id": "ljKm9GlijRWt",
        "colab_type": "text"
      },
      "source": [
        "## Mejorando el método de Euler"
      ]
    },
    {
      "cell_type": "markdown",
      "metadata": {
        "id": "iOWtctNYjRWu",
        "colab_type": "text"
      },
      "source": [
        "El concepto subyacente del método de Runge-Kutta que queremos mostrar, se basa en los mismos conceptos básicos que el método de Euler. Considere ahora que aplicamos el método de Euler nuevamente, sin embargo, esta vez no usaremos la derivada en $ x_ {n + 1} $, sino en el punto medio $ x_ {m} = \\frac {x_ {n + 1} + x_n} {2} $, denominado <i><u>test-point</u> </i>. Entonces se puede calcular un $ x_ {n + 1} $ más exacto usando la información de la derivada en este punto medio ($ \\dot {x} _m $) del intervalo $ h $ entre $ x_n $ y $ x_ {n + 1} $. Es decir,"
      ]
    },
    {
      "cell_type": "markdown",
      "metadata": {
        "id": "l3jJD2vWjRWu",
        "colab_type": "text"
      },
      "source": [
        "\\begin{align*}\n",
        "x_{n+1} &= x_n + h\\cdot \\dot{x}_m \\\\[1.2em]\n",
        "        &= x_n + h\\cdot [\\cos(x_m) + \\sin(t_m)] \\\\[0.8em]\n",
        "        &= x_n + h\\cdot \\left[\\cos\\left(x_n + \\frac{h \\dot{x}_n}{2}\\right) + \\sin\\left(t_n+\\frac{h}{2} \\right)\\right] \\\\[1.0em]\n",
        "        &= x_n + h\\cdot \\left[\\cos\\left(x_n + \\frac{h}{2}[\\cos(x_n)+\\sin(t_n)]\\right) + \\sin\\left(t_n+\\frac{h}{2} \\right)\\right]\n",
        "\\end{align*}\n",
        "\n",
        "Ahora, grafémoslo contra el enfoque de Euler original y estudiemos la diferencia."
      ]
    },
    {
      "cell_type": "code",
      "metadata": {
        "id": "YRg9rL0RjRWv",
        "colab_type": "code",
        "colab": {}
      },
      "source": [
        ""
      ],
      "execution_count": null,
      "outputs": []
    },
    {
      "cell_type": "markdown",
      "metadata": {
        "id": "JU_TFxcYjRWx",
        "colab_type": "text"
      },
      "source": [
        "La nueva aproximación es significativamente diferente de la solución proporcionada por el enfoque de Euler original (usando $ N = 15 $). Lo que hemos implementado aquí, a menudo se denomina <i> Método Euler mejorado </i> o <i> Método del punto medio </i> para EDO. Sin embargo, un niño querido tiene muchos nombres, y nos referiremos a él como <strong> El método Runge-Kutta de segundo orden </strong>. Si asumimos que nuestro método mejorado es más preciso, se ve que el enfoque original se desborda, lo cual es un problema conocido del método de Euler.\n"
      ]
    },
    {
      "cell_type": "markdown",
      "metadata": {
        "id": "BDgwtvQ-jRWy",
        "colab_type": "text"
      },
      "source": [
        "Comparemos brevemente los errores de los dos enfoques, estimando primero el error de nuestro esquema mejorado de manera similar a la anterior, expandiendo Taylor alrededor de $ (t + h / 2) $. El esquema mejorado aplica la aproximación\n",
        "$$\n",
        "x(t+h) \\approx x(t) + h\\dot{x}(t+h/2)\n",
        "$$\n",
        "\n",
        "donde expandimos $ \\dot {x} (t + h / 2) $ resultando en\n",
        "\n",
        "$$\n",
        "\\dot{x}(t+h/2) = \\dot{x}(t) + (h/2)\\ddot{x} + \\frac{(h/2)^2}{2}\\dddot{x} + \\mathcal{O}(h^3)\n",
        "$$"
      ]
    },
    {
      "cell_type": "markdown",
      "metadata": {
        "id": "WzZQvyJQjRWy",
        "colab_type": "text"
      },
      "source": [
        "De manera similar al método de Euler, comparamos nuestro esquema mejorado con la expansión de Taylor exacta,\n",
        "\n",
        "\\begin{align*}\n",
        "\\text{Exact:} & \\qquad x(t + h) =  x(t) + h\\dot{x} + \\frac{h^2}{2}\\ddot{x} + \\frac{h^3}{6}\\dddot{x} + \\ldots  \\\\[1.2em]\n",
        "\\text{Impr. E.:} & \\qquad x(t + h) \\approx  x(t) + h[\\dot{x}(t) + (h/2)\\ddot{x}]\\\\[1.2em]\n",
        "\\text{Error:} & \\qquad e = \\frac{h^3}{6}\\dddot{x} + \\mathcal{O}(h^4)\n",
        "\\end{align*}"
      ]
    },
    {
      "cell_type": "markdown",
      "metadata": {
        "id": "CIAHsbmNjRWz",
        "colab_type": "text"
      },
      "source": [
        "Esto implica un error global $ E = N \\cdot e \\propto h^2 $, que efectivamente da un método de precisión de segundo orden en $ h $, no tan sorprendente considerando el nombre del método. Preguntémonos de nuevo: <strong> ¿podemos hacerlo aún mejor? </strong>"
      ]
    },
    {
      "cell_type": "markdown",
      "metadata": {
        "id": "VlfVqsCWjRWz",
        "colab_type": "text"
      },
      "source": [
        "## El método general (cuarto orden) de Runge-Kutta"
      ]
    },
    {
      "cell_type": "markdown",
      "metadata": {
        "collapsed": true,
        "id": "nUQomsjujRW0",
        "colab_type": "text"
      },
      "source": [
        "Lo que hizo Euler fue estimar $ x_{n + 1} $ usando $ x_n $ y $ \\dot {x} _n $. Lo que acabamos de hacer fue estimar $ x_{n + 1} $ usando $ x_n $ y la derivada del punto intermedio, es decir, el punto medio de prueba, $ x_m $. Ahora, aquí hay una idea interesante: <i> <strong> ¿Sería posible usar un punto de prueba similar para calcular la derivada al punto de prueba real? </strong> </i> Tómese un tiempo para pensar lo que implica esta pregunta antes de seguir leyendo."
      ]
    },
    {
      "cell_type": "markdown",
      "metadata": {
        "collapsed": true,
        "id": "yHyIY3nRjRW0",
        "colab_type": "text"
      },
      "source": [
        "La respuesta quizás no tan innovadora a la pregunta anterior es <strong> sí </strong>. De hecho, podemos hacerlo aún mejor: podemos hacer un punto de prueba, para el punto de prueba del punto de prueba, ¡y así sucesivamente! Da la casualidad de que el <strong> método Runge-Kutta de cuarto orden </strong> utiliza tres de estos puntos de prueba y es el método Runge-Kutta más utilizado. Puede preguntar por qué no usamos cinco, diez o incluso más puntos de prueba, y la respuesta es bastante simple: no es computacionalmente libre calcular todos estos puntos de prueba, y la ganancia en precisión disminuye rápidamente más allá del cuarto orden. del método. Es decir, si la alta precisión es de tal importancia que necesitaría un Runge-Kutta de décimo orden, entonces es mejor reducir el tamaño del paso $ h $ que aumentar el orden del método.\n",
        "\n",
        "Además, existen otros métodos más sofisticados que pueden ser más rápidos y precisos para elecciones equivalentes de $ h $, pero obviamente, pueden ser mucho más complicados de implementar. Ver, por ejemplo, <i> Extrapolación de Richardson </i>, <i> el método Bulirsch-Stoer </i>, <i> Métodos multipaso, métodos multivalor </i> y <i> métodos Predictor-Corrector </i> ."
      ]
    },
    {
      "cell_type": "markdown",
      "metadata": {
        "collapsed": true,
        "id": "L1zAou5XjRW1",
        "colab_type": "text"
      },
      "source": [
        "Sin embargo, ahora mostramos una expresión general para el método de Runge-Kutta ordenado arbitrariamente, antes de aplicar el método de cuarto orden al problema dado anteriormente. Nuevamente, considere una EDO escrita en el formulario\n",
        "\n",
        "$$\n",
        "\\dot{x}(t) = g(x(t),t)\n",
        "$$"
      ]
    },
    {
      "cell_type": "markdown",
      "metadata": {
        "id": "s5njVafkjRW1",
        "colab_type": "text"
      },
      "source": [
        "Luego, para el método <strong> general </strong> $ q $ ordenado por Runge-Kutta, uno tiene\n",
        "\\begin{align*}\n",
        "k_1 &= h\\cdot g(x_n, t_n) \\\\[1.0em]\n",
        "k_2 &= h\\cdot g(x_n + a_{2,1}k_1                                   , t+c_2 h ) \\\\[1.0em]\n",
        "k_3 &= h\\cdot g(x_n + a_{3,1}k_1 + a_{3,2}k_2                      , t+c_3 h ) \\\\[1.0em]\n",
        "k_4 &= h\\cdot g(x_n + a_{4,1}k_1 + a_{4,2}k_2 + a_{4,3}k_3         , t+c_4 h ) \\\\[1.0em]\n",
        "    &\\qquad \\vdots   \\\\[1.0em]\n",
        "k_q &= h\\cdot g(x_n + [a_{q,1} k_1 + a_{q,2}k_2+\\ldots+a_{q,q-1}k_{q-1}], t_n + c_q h )\n",
        "\\end{align*}\n",
        "\n",
        "Tal que,\n",
        "\n",
        "\\begin{equation*}\n",
        "x_{n+1} = x_n + \\sum_{i=1}^{q} b_i k_i\n",
        "\\end{equation*}\n"
      ]
    },
    {
      "cell_type": "markdown",
      "metadata": {
        "id": "seQP3jtAjRW2",
        "colab_type": "text"
      },
      "source": [
        "El esquema que se presenta ahora en su forma general, tiene algunos coeficientes indefinidos: $ a_ {i, j} $, $ b_ {i} $ y $ c_ {i} $. Los elementos $ a_ {i, j} $ se indican como la Matriz de Runge-Kutta, mientras que $ b_i $ son pesos y $ c_i $ son nodos. Derivar estos (y coeficientes para otros métodos similares) puede ser una tarea tediosa de álgebra complicada. Por lo tanto, estos coeficientes se obtienen generalmente de tablas en la literatura. Los coeficientes de los métodos de Runge-Kutta se pueden encontrar usando el cuadro de (John C.) Butcher,\n",
        "\n",
        "\\begin{array}{ c|c c c }\n",
        "  0   &         &&              &&& \\\\\n",
        "  c_2 & a_{2,1} &&              &&& \\\\\n",
        "  c_3 & a_{3,1} && a_{3,2} &&& \\\\\n",
        "  \\vdots &      &\\ddots&         &&& \\\\\n",
        "  c_q & a_{q,1} && a_{q,2} & \\ldots & a_{q,q-1}&& \\\\\n",
        "  \\hline\n",
        "      & b_1     && b_2     & \\ldots & b_{q-1}  && b_q\n",
        "\\end{array}\n",
        "\n",
        "A continuación, los coeficientes se determinan exigiendo que el método sea <i> consistente </i>. La consistencia de una aproximación numérica (diferencia finita) se refiere al hecho de que el problema aproximado (ecuación) se aproxima al problema exacto en el límite del tamaño del paso que va hacia cero. Para el método de Runge-Kutta, este es el caso cuando\n",
        "\n",
        "\\begin{equation*}\n",
        "\\sum_{j=1}^{l-1} a_{i,j} = c_i, \\text{  for  } l\\in 2,3,\\ldots,q;\n",
        "\\end{equation*}"
      ]
    },
    {
      "cell_type": "markdown",
      "metadata": {
        "id": "Ft6Fn_z0jRW3",
        "colab_type": "text"
      },
      "source": [
        "Pueden existir múltiples opciones para los coeficientes de un orden arbitrario $ q $, pero no profundizaremos en los detalles de su derivación. En cambio, damos la opción quizás más ampliamente aplicada para el método de cuarto orden $ (q = 4) $, para el cual el cuadro de Butcher es\n",
        "\n",
        "\\begin{array}{ c|c c c }\n",
        "  0   &     &     &     &    \\\\\n",
        "  1/2 & 1/2 &     &     &    \\\\\n",
        "  1/2 & 0   & 1/2 &     &    \\\\\n",
        "  1   & 0   & 0   & 1   &    \\\\\n",
        "  \\hline\n",
        "      & 1/6 & 1/3 & 1/3 & 1/6 \\\\\n",
        "\\end{array}\n",
        "La tabla anterior permite los cálculos de $ k_1 $, $ k_2 $, $ k_3 $ y $ k_4 $ de modo que ahora podemos aplicar el método de Runge-Kutta de cuarto orden al problema en cuestión."
      ]
    },
    {
      "cell_type": "code",
      "metadata": {
        "id": "8E0PGsQ4jRW3",
        "colab_type": "code",
        "colab": {}
      },
      "source": [
        ""
      ],
      "execution_count": null,
      "outputs": []
    },
    {
      "cell_type": "markdown",
      "metadata": {
        "id": "BeU5aEgTjRW6",
        "colab_type": "text"
      },
      "source": [
        "Se ve que hay una diferencia marginal entre las implementaciones de cuarto y segundo orden de Runge-Kutta, mientras que el método de Euler tiene un error significativo. Recomendamos que ajuste el número total de puntos $ N $, para ver cómo los diferentes métodos se acercan entre sí (y la solución exacta) como $ h \\overset {N \\to \\infty} {\\longrightarrow} 0 $."
      ]
    },
    {
      "cell_type": "markdown",
      "metadata": {
        "collapsed": true,
        "id": "q95yw8NUjRW7",
        "colab_type": "text"
      },
      "source": [
        "### Derivadas de orden superior y conjuntos de EDO de primer orden"
      ]
    },
    {
      "cell_type": "markdown",
      "metadata": {
        "collapsed": true,
        "id": "bhofTyBtjRW7",
        "colab_type": "text"
      },
      "source": [
        "Hasta ahora, nos hemos restringido a considerar las EDO que contienen solo derivadas ordenadas primero (y cero), sin embargo, esto es de hecho todo lo que uno tiene que dominar. Tenga cuidado de no confundir el orden (derivado) de la ecuación y el orden (precisión) del método numérico. Una EDO ordenada por $ q $ siempre se puede reducir a un conjunto de dos EDO ordenadas por $ (q-1) $. Considere la EDO general, lineal, de segundo orden con coeficientes constantes y algunas condiciones iniciales arbitrarias\n",
        "\n",
        "$$\n",
        "a\\ddot{x} + b\\dot{x} + cx = g(t), \\qquad x = x(t)\n",
        "$$"
      ]
    },
    {
      "cell_type": "markdown",
      "metadata": {
        "id": "RRmKYYc1jRW7",
        "colab_type": "text"
      },
      "source": [
        "Introduzca entonces una nueva variable, $ \\nu (t) \\equiv \\dot{x}(t) $ de modo que el problema anterior pueda expresarse mediante\n",
        "\n",
        "\\begin{align*}\n",
        "\\dot{x}   &= \\nu                            &\\equiv F(x,\\nu,t)\\\\[1.0em]\n",
        "\\dot{\\nu} &= \\frac{1}{a} ( g(t) - b\\nu - cx ) &\\equiv G(x,\\nu,t)\n",
        "\\end{align*}\n",
        "\n",
        "Donde hemos introducido $ F, G $ solo para generalidad. De hecho, el método también sería aplicable para el caso más general donde $ a, b, c $ son funciones de $ x,\\nu,t$.\n",
        "\n",
        "Sin embargo, este conjunto de dos EDO dependientes de primer orden se puede resolver utilizando un método de Runge-Kutta. De hecho, podemos resolver cualquier conjunto de EDO de <u> primer </u> orden de $ M $, sin embargo, tenga en cuenta que en este ejemplo en particular los puntos de prueba para $ x $ dependerán de los de $ \\nu $ y viceversa, de modo que las dos ecuaciones deberán resolverse simultáneamente. Eso también se aplica a un conjunto de EDO de tamaño arbitrario."
      ]
    },
    {
      "cell_type": "markdown",
      "metadata": {
        "id": "pSx4o_jtjRW8",
        "colab_type": "text"
      },
      "source": [
        "Para el método de Runge-Kutta de cuarto orden, se obtiene por paso de tiempo $ n $\n",
        "\n",
        "\\begin{align*}\n",
        "k_{x1} &= h \\cdot F\\left(x_n                   ,\\nu_n                     ,t_n             \\right), & k_{\\nu1} &= h \\cdot G\\left(x_n                   ,\\nu_n                     ,t_n             \\right) \\\\[1.0em]\n",
        "k_{x2} &= h \\cdot F\\left(x_n + \\frac{k_{x1}}{2},\\nu_n + \\frac{k_{\\nu1}}{2},t_n+\\frac{h}{2} \\right), & k_{\\nu2} &= h \\cdot G\\left(x_n + \\frac{k_{x1}}{2},\\nu_n + \\frac{k_{\\nu1}}{2},t_n+\\frac{h}{2} \\right) \\\\[1.0em]\n",
        "k_{x3} &= h \\cdot F\\left(x_n + \\frac{k_{x2}}{2},\\nu_n + \\frac{k_{\\nu2}}{2},t_n+\\frac{h}{2} \\right), & k_{\\nu3} &= h \\cdot G\\left(x_n + \\frac{k_{x2}}{2},\\nu_n + \\frac{k_{\\nu2}}{2},t_n+\\frac{h}{2} \\right) \\\\[1.0em]\n",
        "k_{x4} &= h \\cdot F\\left(x_n +       k_{x3}    ,\\nu_n +       k_{\\nu3}    ,t_n+h           \\right), & k_{\\nu3} &= h \\cdot G\\left(x_n +       k_{x3}    ,\\nu_n +       k_{\\nu3}    ,t_n+h           \\right)\n",
        "\\end{align*}\n",
        "\n",
        "Tal que,\n",
        "\n",
        "\\begin{align*}\n",
        "    x_{n+1}   &=   x_n + k_{x1}/6    + k_{x2}/3    + k_{x3}/3    + k_{x4}/6    \\\\[1.0em]\n",
        "    \\nu_{n+1} &= \\nu_n + k_{\\nu 1}/6 + k_{\\nu 2}/3 + k_{\\nu 3}/3 + k_{\\nu 4}/6 \n",
        "\\end{align*}\n",
        "\n",
        "\n",
        "Para $ n = 1, \\ldots, N-1; $ mientras que $ x_0 $, $ \\nu_0 $ deberían conocerse como condiciones iniciales. Tenga en cuenta que el tamaño de paso $ h $ puede retirarse del interior de $ k $ y dejarse para el cálculo de $ x_ {n + 1} $ en su lugar, lo que reducirá algo el número total de cálculos / operaciones en cada ciclo. También debe notar que $ k_ {xi} $ depende de $ k _ {\\ nu (i-1)} $ y $ k _{\\nu i} $ depende de $ k_{x (i-1)} $. Por lo tanto, los valores de $ k $ deben calcularse de manera ordenada."
      ]
    },
    {
      "cell_type": "markdown",
      "metadata": {
        "collapsed": true,
        "id": "LAkyxqh3jRW8",
        "colab_type": "text"
      },
      "source": [
        "Concluimos que para un sistema de $ M $ ecuaciones de primer orden, el número total de $ k $ -valores para un método de Runge-Kutta con $ q $ será $ M\\cdot q $. Es decir, grandes conjuntos de ecuaciones diferenciales con derivadas de órdenes superiores darán como resultado un conjunto aún mayor de EDO de primer orden que producirán una gran cantidad de variables de $ k $. Si este es el caso, es posible que desee reconsiderar si el método Runge-Kutta realmente es el mejor enfoque para su problema.\n",
        "\n",
        "Sin embargo, el método Runge-Kutta es bastante fácil y directo de implementar, y proporciona lo que llamaremos una precisión bastante decente, mientras que sigue siendo razonablemente rápido y eficiente. ¡Es, por supuesto, una herramienta poderosa para cualquier científico numérico!"
      ]
    }
  ]
}